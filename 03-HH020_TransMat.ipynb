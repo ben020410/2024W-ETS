{
  "nbformat": 4,
  "nbformat_minor": 0,
  "metadata": {
    "colab": {
      "provenance": []
    },
    "kernelspec": {
      "name": "python3",
      "display_name": "Python 3"
    },
    "language_info": {
      "name": "python"
    }
  },
  "cells": [
    {
      "cell_type": "code",
      "execution_count": null,
      "metadata": {
        "id": "BpQDOmXEiDIY"
      },
      "outputs": [],
      "source": [
        "import numpy as np\n",
        "import math\n",
        "np.set_printoptions(precision = 3, suppress = True)"
      ]
    },
    {
      "cell_type": "code",
      "source": [
        "# 각 축별 변환행렬 정의\n",
        "\n",
        "def trans_axis(theta, axis, par_x, par_y, par_z):\n",
        "\n",
        "  s = math.sin(np.deg2rad(theta))\n",
        "  c = math.cos(np.deg2rad(theta))\n",
        "\n",
        "  matrix = [[0 for j in range(4)] for i in range(4)]\n",
        "  matrix[0][3] = par_x\n",
        "  matrix[1][3] = par_y\n",
        "  matrix[2][3] = par_z\n",
        "  matrix[3][3] = 1\n",
        "\n",
        "  if axis == 'x':\n",
        "    matrix[0][0] = 1\n",
        "    matrix[1][1] = c\n",
        "    matrix[2][1] = s\n",
        "    matrix[1][2] = -s\n",
        "    matrix[2][2] = c\n",
        "\n",
        "  if axis == 'y':\n",
        "    matrix[0][0] = c\n",
        "    matrix[2][0] = -s\n",
        "    matrix[1][1] = 1\n",
        "    matrix[0][2] = s\n",
        "    matrix[2][2] = c\n",
        "\n",
        "  if axis == 'z':\n",
        "    matrix[0][0] = c\n",
        "    matrix[0][1] = -s\n",
        "    matrix[1][0] = s\n",
        "    matrix[1][1] = c\n",
        "    matrix[2][2] = 1\n",
        "\n",
        "  return matrix"
      ],
      "metadata": {
        "id": "13_8Gdo-iFJ5"
      },
      "execution_count": null,
      "outputs": []
    },
    {
      "cell_type": "code",
      "source": [
        "# 변환행렬로부터 Rx, Ry, Rz 추출\n",
        "\n",
        "def find_angle(matrix):\n",
        "\n",
        "  rot_angle = [0, 0, 0]\n",
        "\n",
        "  rot_angle[0] = np.rad2deg(math.atan2(matrix[2][1], matrix[2][2]))\n",
        "  rot_angle[1] = np.rad2deg(math.atan2(-matrix[2][0], math.sqrt(pow(matrix[0][0], 2) + pow(matrix[1][0], 2))))\n",
        "  rot_angle[2] = np.rad2deg(math.atan2(matrix[1][0], matrix[0][0]))\n",
        "\n",
        "  return rot_angle"
      ],
      "metadata": {
        "id": "UJQG4InG0LXl"
      },
      "execution_count": null,
      "outputs": []
    },
    {
      "cell_type": "code",
      "source": [
        "# 알짜 변환행렬 Tnet 추출\n",
        "\n",
        "def find_Tnet(angle):\n",
        "  T1 = trans_axis(angle[0]-90, 'z', 0, 0, 0)\n",
        "  T2 = trans_axis(angle[1]-90, 'x', 0, 250, 460)\n",
        "  T3 = trans_axis(angle[2], 'x', 0, 0, 700)\n",
        "  T4 = trans_axis(angle[3], 'y', 0, -250, 150)\n",
        "  T5 = trans_axis(angle[4], 'x', 0, 1050, 0)\n",
        "  Rz = trans_axis(90, 'z', 0, 0, 0)\n",
        "  Ry = trans_axis(90, 'y', 0, 0, 0)\n",
        "  T6 = trans_axis(angle[5], 'z', 0, 0, 110)\n",
        "\n",
        "  Tnet = np.dot(np.dot(np.dot(np.dot(np.dot(np.dot(np.dot(T1, T2), T3), T4), T5), Rz), Ry), T6)\n",
        "\n",
        "  return Tnet"
      ],
      "metadata": {
        "id": "jMdjQRYc89wA"
      },
      "execution_count": null,
      "outputs": []
    },
    {
      "cell_type": "code",
      "source": [
        "aa = [0, 0, 0, 0, 0, 0]\n",
        "\n",
        "aa[0], aa[1], aa[2], aa[3], aa[4], aa[5] = map(float, input('축별 각도를 입력하시오: ').split())"
      ],
      "metadata": {
        "colab": {
          "base_uri": "https://localhost:8080/"
        },
        "id": "fezsNset9JpH",
        "outputId": "b0657816-2737-43ed-a964-e0142cef0e1e"
      },
      "execution_count": null,
      "outputs": [
        {
          "name": "stdout",
          "output_type": "stream",
          "text": [
            "축별 각도를 입력하시오: 139.0 126.1 38.5 -20.2 81.9 125.4\n"
          ]
        }
      ]
    },
    {
      "cell_type": "code",
      "source": [
        "T = find_Tnet(aa)\n",
        "\n",
        "xyz = np.dot(T, [0, 0, 0, 1])\n",
        "Rxyz = find_angle(find_Tnet(aa))\n",
        "\n",
        "print(T, \"\\n\")\n",
        "\n",
        "print('x =', xyz[0])\n",
        "print('y =', xyz[1])\n",
        "print('z =', xyz[2])\n",
        "print('Rx =', Rxyz[0])\n",
        "print('Ry =', Rxyz[1])\n",
        "print('Rz =', Rxyz[2])"
      ],
      "metadata": {
        "colab": {
          "base_uri": "https://localhost:8080/"
        },
        "id": "87WT8_y6pfqk",
        "outputId": "d71864e5-629b-4455-f34e-e1b5eccb0b5e"
      },
      "execution_count": null,
      "outputs": [
        {
          "output_type": "stream",
          "name": "stdout",
          "text": [
            "[[  -0.554    0.716    0.424  117.989]\n",
            " [  -0.569    0.045   -0.821 -152.392]\n",
            " [  -0.607   -0.696    0.383 1878.786]\n",
            " [   0.       0.       0.       1.   ]] \n",
            "\n",
            "x = 117.98914948826948\n",
            "y = -152.39202246252506\n",
            "z = 1878.786290776409\n",
            "Rx = -61.212913108987486\n",
            "Ry = 37.39545361034904\n",
            "Rz = -134.2621551584979\n"
          ]
        }
      ]
    }
  ]
}